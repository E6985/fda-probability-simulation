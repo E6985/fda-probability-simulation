{
 "cells": [
  {
   "cell_type": "markdown",
   "metadata": {},
   "source": [
    "< [GMIT Data Analytics](https://web.archive.org/web/20201029063153/https://www.gmit.ie/computer-science-and-applied-physics/higher-diploma-science-computing-data-analytics-ict) | [Table of Contents](https://github.com/E6985) | [README](https://github.com/E6985/fda-probability-simulation/blob/main/README.md) >\n",
    "\n",
    "<img src=\"img/gmit.png\" />\n",
    "\n",
    "## probability-simulation\n",
    "***"
   ]
  },
  {
   "cell_type": "code",
   "execution_count": 1,
   "metadata": {},
   "outputs": [],
   "source": [
    "# execute from file - .py\n",
    "%run ~/L8733/src/pro/par/pyt/magic/fGetModuleType.py"
   ]
  },
  {
   "cell_type": "markdown",
   "metadata": {},
   "source": [
    "###### Win a car - Purpose\n",
    "***"
   ]
  },
  {
   "cell_type": "markdown",
   "metadata": {},
   "source": [
    "- ~~purpose of the notebook - simulate playing a simple game of chance - asked to make two choices - so you are going to imagine yourself as a contestant on a game show - you are going to make two different choices - you are going to be asked two yes or no questions - at the end of it you might win a car - simulation~~ [\n",
    "[...] I. McLoughlin, \"Win a car,\" GMIT, October 2020.\n",
    "]"
   ]
  },
  {
   "cell_type": "markdown",
   "metadata": {},
   "source": [
    "- ~~real question - can you have a strategy or can you not have a strategy in this game - its a game of chance - just try and get a feel for the game - you play it - you do your best - just a game of chance - so it does not matter whether you win or lose - the goal here is not to get you to win the game - the goal here is to just see the decisions that you make - does not matter whether you win or lose - but its really important that you are honest and play it the way you feel it~~ [\n",
    "[...] I. McLoughlin, \"Win a car,\" GMIT, October 2020.\n",
    "]"
   ]
  },
  {
   "cell_type": "markdown",
   "metadata": {},
   "source": [
    "***\n",
    "In this notebook you'll simulate playing a simple game of chance in which you are asked to make two choices.\n",
    "At the end, you'll be asked to submit the outcome of the game.\n",
    "The outcome will be combined with the outcomes of your classmates and analysed in class.\n",
    "Please don't Google the game before you get through the whole notebook and submit your game.\n",
    "***"
   ]
  },
  {
   "cell_type": "markdown",
   "metadata": {},
   "source": [
    "[\n",
    "[...] I. McLoughlin, \"Win a car,\" GMIT, October 2020.\n",
    "]"
   ]
  },
  {
   "cell_type": "markdown",
   "metadata": {},
   "source": [
    "###### Running this notebook\n",
    "***"
   ]
  },
  {
   "cell_type": "markdown",
   "metadata": {},
   "source": [
    "- ~~now to run the notebook - running here on my machine - because i want to show you it running - when you first come across the notebook - you will see it in github - and you can go up to the raw button on the top - right click on that and click save as - and you can save the notebook - this notebook - then download to your machine - downloads as a txt file - and you will be able to run through jupiter there~~ [\n",
    "[...] I. McLoughlin, \"Win a car,\" GMIT, October 2020.\n",
    "] "
   ]
  },
  {
   "cell_type": "markdown",
   "metadata": {},
   "source": [
    "- ~~its better to run each of the cells in turn - but if you do mess up the kernel - restart - clear up and start again - but do not do that because you lost the game - its really important - because like - its a game of chance - obviously - the game show hosts are trying to not get you to win a car - right because that cost them a lot of money - so - you know - its probably - i think - on the face of it - its reasonable to expect that you are likely to lose the game~~ [\n",
    "[...] I. McLoughlin, \"Win a car,\" GMIT, October 2020.\n",
    "]"
   ]
  },
  {
   "cell_type": "markdown",
   "metadata": {},
   "source": [
    "***\n",
    "This is a Jupyter notebook.\n",
    "You should download it and run it through Jupyter on your own machine.\n",
    "The notebook should be run in one session from top to bottom.\n",
    "If you mess up at any stage, you can click `Restart & Clear Output` from the Kernel menu at the top.\n",
    "***"
   ]
  },
  {
   "cell_type": "markdown",
   "metadata": {},
   "source": [
    "[\n",
    "[...] I. McLoughlin, \"Win a car,\" GMIT, October 2020.\n",
    "]"
   ]
  },
  {
   "cell_type": "markdown",
   "metadata": {},
   "source": [
    "###### Background\n",
    "***"
   ]
  },
  {
   "cell_type": "markdown",
   "metadata": {},
   "source": [
    "- ~~so heres the background - you might have seen this before - and if you have - you will be asked to say whether you have seen it before - so the game you are about to play is adapted from an old tv show the contestant after going through a number of rounds - they kind of eliminate the other contestants - and then finally the last contestant left - you are given the chance to win a car~~ [\n",
    "[...] I. McLoughlin, \"Win a car,\" GMIT, October 2020.\n",
    "]"
   ]
  },
  {
   "cell_type": "markdown",
   "metadata": {},
   "source": [
    "- ~~you are presented with three closed doors - door a in red - door b in green - door c in blue - and you are told that the car has been randomly placed behind one of these doors - car gonna be randomly placed behind one of these doors - by the producers using some algorithm that makes sure its randomly behind it - whatever that means - the other two doors have a goat behind them~~ [\n",
    "[...] I. McLoughlin, \"Win a car,\" GMIT, October 2020.\n",
    "]"
   ]
  },
  {
   "cell_type": "markdown",
   "metadata": {},
   "source": [
    "***\n",
    "The game we're going to play is adapted from an old TV show.\n",
    "The contestant, after going through a number of rounds, is given the opportunity to win a car.\n",
    "They're presented with three closed doors: A, B and C.\n",
    "They're told that a car has been randomly placed behind one of these doors.\n",
    "The other two doors each have a goat behind them.\n",
    "All the contestant has to do is pick a door to open.\n",
    "\n",
    "<img src=\"img/monty-closed.png\" width=\"600px\">\n",
    "\n",
    "***"
   ]
  },
  {
   "cell_type": "markdown",
   "metadata": {},
   "source": [
    "[\n",
    "[...] I. McLoughlin, \"Win a car,\" GMIT, October 2020.\n",
    "]"
   ]
  },
  {
   "cell_type": "markdown",
   "metadata": {},
   "source": [
    "###### Starting variables\n",
    "***"
   ]
  },
  {
   "cell_type": "markdown",
   "metadata": {},
   "source": [
    "- ~~we are gonna have a few starter variables - so this notebook is going to simulate the game - but you are going to kind of type into the code cells - your own information - so to begin - I would like you to set each of the following three variables to either true or false in the cell below - again - do not google anything - its just a bit of fun - so what saying is in the code cell down - set einstein to true - if you ever heard of somebody called albert einstein - false otherwise - most people will say true there - so i set this einstein variable in this code cell - the first one to true - then set monty to true if you have ever heard of someone called monty hall - false otherwise - have I ever heard of monty hall going to say false - i know somebody called monty burns from the simpsons - but i do not know who monty hall is - and then theres a variable called savant - set that to true if you have ever heard of marilyn vos savant - and false otherwise - definitely remember that if I would seen it before - so put in false there~~ [\n",
    "[...] I. McLoughlin, \"Win a car,\" GMIT, October 2020.\n",
    "]"
   ]
  },
  {
   "cell_type": "markdown",
   "metadata": {},
   "source": [
    "- ~~so they are the three suggested ones that have here - just - maybe you have heard about it - you have probably heard einstein - or maybe you have never heard of monty hall - and maybe you have never heard of marilyn vos savant - now - in subsequent videos down the line - tell you why asking - do you know those three people - but just for now - just off the top of your head - do not google them at the stage - because you will start to think too much - and the idea here is to get you to play the game as if you are the contestant on the game show - its fine to try and analyse yourself with your own intuition for the game - but the question here is - does it make any difference whether you try to analyse the game or not is it just a game of chance~~ [\n",
    "[...] I. McLoughlin, \"Win a car,\" GMIT, October 2020.\n",
    "] "
   ]
  },
  {
   "cell_type": "markdown",
   "metadata": {},
   "source": [
    "***\n",
    "To begin, I'd like you to set each of the following three variables to either `True` or `False` in the cell below.\n",
    "Please don't Google anything for now - just use the information currently in your head.\n",
    "Remember, this is just a bit of fun.\n",
    "\n",
    "\n",
    "- Set `einstein` to `True` if you have ever heard of someone called Albert Einstein, `False` otherwise.\n",
    "- Set `monty` to `True` if you have ever heard of someone called Monty Hall, `False` otherwise.\n",
    "- Set `savant` to `True` if you have ever heard of someone called Marilyn vos Savant, `False` otherwise.\n",
    "\n",
    "So, if you know who Einstein is but not Monty Hall or Marilyn vos Savant then type the following in the cell below and press Shift+Enter.\n",
    "\n",
    "```python\n",
    "einstein = True\n",
    "monty    = False\n",
    "savant   = False\n",
    "```\n",
    "***"
   ]
  },
  {
   "cell_type": "markdown",
   "metadata": {},
   "source": [
    "[\n",
    "[...] I. McLoughlin, \"Win a car,\" GMIT, October 2020.\n",
    "]"
   ]
  },
  {
   "cell_type": "code",
   "execution_count": 2,
   "metadata": {},
   "outputs": [],
   "source": [
    "# Set these variables as described above.\n",
    "einstein = True\n",
    "monty    = False\n",
    "savant   = False"
   ]
  },
  {
   "cell_type": "markdown",
   "metadata": {},
   "source": [
    "###### Quick check 1\n",
    "***"
   ]
  },
  {
   "cell_type": "markdown",
   "metadata": {},
   "source": [
    "- ~~got three different checks in the notebook - and all you have to do in these cells is click into them - hold down - shift and press enter - and hopefully at the bottom - if you have done it correctly - quick check one - everything is running - please continue - that checks is did you set these three variables to either true or false - so thats what quick check one does - don't do anything other than what you want as quick check on everything is running - please continue - if down here you see an error - you might have to go back up here and fix whatever you have done wrong up there~~ [\n",
    "[...] I. McLoughlin, \"Win a car,\" GMIT, October 2020.\n",
    "] "
   ]
  },
  {
   "cell_type": "markdown",
   "metadata": {},
   "source": [
    "***\n",
    "Run the cell below to make sure everything at this point is running okay.\n",
    "***"
   ]
  },
  {
   "cell_type": "markdown",
   "metadata": {},
   "source": [
    "[\n",
    "[...] I. McLoughlin, \"Win a car,\" GMIT, October 2020.\n",
    "] "
   ]
  },
  {
   "cell_type": "code",
   "execution_count": 3,
   "metadata": {},
   "outputs": [
    {
     "name": "stdout",
     "output_type": "stream",
     "text": [
      "Quick Check 1: everything is running okay, please continue.\n"
     ]
    }
   ],
   "source": [
    "# Assume everything is running okay.\n",
    "aok = True\n",
    "\n",
    "# Make sure the einstein variable is set to True or False.\n",
    "try:\n",
    "    if einstein not in [True, False]:\n",
    "        print(\"Error: please set the einstein variable to either True or False!\")\n",
    "        aok = False\n",
    "except NameError:\n",
    "    print(\"Error: please set the einstein variable to either True or False!\")\n",
    "    aok = False\n",
    "\n",
    "# Make sure the monty variable is set to True or False.\n",
    "try:\n",
    "    if monty not in [True, False]:\n",
    "        print(\"Error: please set the monty variable to either True or False!\")\n",
    "        aok = False\n",
    "except NameError:\n",
    "    print(\"Error: please set the monty variable to either True or False!\")\n",
    "    aok = False\n",
    "\n",
    "# Make sure the savant variable is set to True or False.\n",
    "try:\n",
    "    if savant not in [True, False]:\n",
    "        print(\"Error: please set the savant variable to either True or False!\")\n",
    "        aok = False\n",
    "except NameError:\n",
    "    print(\"Error: please set the savant variable to either True or False!\")\n",
    "    aok = False\n",
    "\n",
    "# If there are no problems, print a statement to continue.\n",
    "if aok:\n",
    "    print(\"Quick Check 1: everything is running okay, please continue.\")"
   ]
  },
  {
   "cell_type": "markdown",
   "metadata": {},
   "source": [
    "###### Beginning the game\n",
    "***"
   ]
  },
  {
   "cell_type": "markdown",
   "metadata": {},
   "source": [
    "- ~~so beginning of the game - below are some python code to generate a random choice between three doors as pictured above - so this python code is going to randomly select a door to put the car behind - so this is - this is where you kind of break the fourth wall - i suppose in one way - and here - you are going to mimic what the producers of the show do - randomly selecting one of the doors to put the car behind - as the contestant you do not know which door it is - so they are going to pick one of the doors - they are going to call them the first door red - second - or green - third door blue~~ [\n",
    "[...] I. McLoughlin, \"Win a car,\" GMIT, October 2020.\n",
    "] "
   ]
  },
  {
   "cell_type": "markdown",
   "metadata": {},
   "source": [
    "***\n",
    "Below is some Python code to generate a random choice between three doors as pictured above: red, green and blue.\n",
    "The code will randomly choose one of the doors to put the car behind.\n",
    "There's no cheating here - the car is as likely to be behind any one of the doors.\n",
    "\n",
    "The colour of the door with the car is stored as a string in the variable `car`.\n",
    "The red door is indicated by the string `'red'`, the green door by `'green'` and the blue door by `'blue'`.\n",
    "Please don't look at the value of the `car` variable, at least until the game is over.\n",
    "If you re-run the cell you will again randomly select a door - possibly the same, possibly different.\n",
    "***"
   ]
  },
  {
   "cell_type": "markdown",
   "metadata": {},
   "source": [
    "[\n",
    "[...] I. McLoughlin, \"Win a car,\" GMIT, October 2020.\n",
    "]"
   ]
  },
  {
   "cell_type": "code",
   "execution_count": 4,
   "metadata": {},
   "outputs": [],
   "source": [
    "# Python provides a library called random to generate pseudo-random numbers.\n",
    "import random"
   ]
  },
  {
   "cell_type": "code",
   "execution_count": 5,
   "metadata": {},
   "outputs": [],
   "source": [
    "# The three doors in a list.\n",
    "doors = ['red', 'green', 'blue']"
   ]
  },
  {
   "cell_type": "markdown",
   "metadata": {},
   "source": [
    "- ~~the car variable is going to be set randomly to one of those three items - its either going to be red - or green - or blue - and its going to select it randomly - in this case - what we mean by random is that the probability of it being red will be a third - the probability of being green will be third - and the probability of it being blue will be a third - each of the three doors equally likely theres nothing going on behind the scenes here - that actually does not matter too much whether there is something going on behind the scenes - but thats for another day - right now - we are just going to assume the producer is totally honest - right theres no trick here up the sleeve or anything like that - they are really going to say - just like when you are watching the lotto - when kpmg theres an independent observer from kpmg standing there - making sure that they are not - you know - the lotto people are not cheating in some way or something like that~~ [\n",
    "[...] I. McLoughlin, \"Win a car,\" GMIT, October 2020.\n",
    "]"
   ]
  },
  {
   "cell_type": "code",
   "execution_count": 6,
   "metadata": {},
   "outputs": [],
   "source": [
    "# Pick a random door.\n",
    "car = random.choice(doors)"
   ]
  },
  {
   "cell_type": "markdown",
   "metadata": {},
   "source": [
    "- ~~do not look at the value of the car variable - the point is that thats meant to be hidden from you - its in memory - now - we could easily ask python what the car variable is - but do not - its either red or green or blue - three different strings - but we the point here is that we do not know which one it is~~ [\n",
    "[...] I. McLoughlin, \"Win a car,\" GMIT, October 2020.\n",
    "]\n"
   ]
  },
  {
   "cell_type": "code",
   "execution_count": 7,
   "metadata": {},
   "outputs": [
    {
     "name": "stdout",
     "output_type": "stream",
     "text": [
      "From Python: I've randomly selected a door to put the car behind.\n"
     ]
    }
   ],
   "source": [
    "# Tell the user we've picked.\n",
    "print(\"From Python: I've randomly selected a door to put the car behind.\")"
   ]
  },
  {
   "cell_type": "markdown",
   "metadata": {},
   "source": [
    "###### Your first choice\n",
    "***"
   ]
  },
  {
   "cell_type": "markdown",
   "metadata": {},
   "source": [
    "- ~~so you were told you are gonna have to make two choices - heres the first choice - guess what it is - the producers have randomly selected one of the doors to put the car behind - and now all you have to do is set the pick variable to whatever door you guess the car is behind - so it really does not matter what you pick here - i think - on the face it - certainly does not matter - lets pick the green car - so going to type in pick equals green - so selecting the green car - so remember - you have to this is a string - so you have to have single or double quotes around it - pick one or the other - you cannot mix them - hold on shift - press enter - and now the pick variable is set to green - thats saying - you know what producers randomly selected the door to put the car behind - going to guess its the green door - now - we do not know whether the green one - the blue one or the red one - but as contestants we hope its the green one~~ [\n",
    "[...] I. McLoughlin, \"Win a car,\" GMIT, October 2020.\n",
    "] "
   ]
  },
  {
   "cell_type": "markdown",
   "metadata": {},
   "source": [
    "***\n",
    "In the cell above, Python randomly selected a door to put the car behind (implying there are goats behind the other two doors.)\n",
    "You shouldn't have looked at what Python chose - it's stored in the `car` variable.\n",
    "\n",
    "Here is your first of two choices as the contestant: pick one of the doors that you think the car might be behind.\n",
    "To indicate your preference, in the cell below set the variable `pick` to `'red'` if you want to pick the red door, `'green'` for the green door or `'blue'` for the blue.\n",
    "\n",
    "Here you are being asked to guess what door Python might have chosen, based on no information really - it's just a guess.\n",
    "***"
   ]
  },
  {
   "cell_type": "markdown",
   "metadata": {},
   "source": [
    "[\n",
    "[...] I. McLoughlin, \"Win a car,\" GMIT, October 2020.\n",
    "]"
   ]
  },
  {
   "cell_type": "code",
   "execution_count": 8,
   "metadata": {},
   "outputs": [],
   "source": [
    "# Pick one of three doors: 'red', 'green' or 'blue'.\n",
    "pick = \"green\""
   ]
  },
  {
   "cell_type": "markdown",
   "metadata": {},
   "source": [
    "###### Quick check 2\n",
    "***"
   ]
  },
  {
   "cell_type": "markdown",
   "metadata": {},
   "source": [
    "- ~~now - second - quick check of three - three - check - so this these cells are just stuck them in there - just so i do not want to end up with like - a messed up dataset at the end - so all you have to do is click in to the cell - hold on shift and press enter - and quick check 2 should say everything is running ok - please continue - if you have made a mistake in setting the pick variable - it might say error - go back up and fix the problem or whatever - if you want to at any stage - as i said before - go to kernel - restart - clear output - rerun your notebook~~ [\n",
    "[...] I. McLoughlin, \"Win a car,\" GMIT, October 2020.\n",
    "] "
   ]
  },
  {
   "cell_type": "markdown",
   "metadata": {},
   "source": [
    "***\n",
    "Run the cell below to make sure everything at this point is running okay.\n",
    "***"
   ]
  },
  {
   "cell_type": "markdown",
   "metadata": {},
   "source": [
    "[\n",
    "[...] I. McLoughlin, \"Win a car,\" GMIT, October 2020.\n",
    "]"
   ]
  },
  {
   "cell_type": "code",
   "execution_count": 9,
   "metadata": {},
   "outputs": [
    {
     "name": "stdout",
     "output_type": "stream",
     "text": [
      "Quick Check 2: everything is running okay, please continue.\n"
     ]
    }
   ],
   "source": [
    "# Assume everything is running okay.\n",
    "aok = True\n",
    "\n",
    "# Make sure car is set to a door.\n",
    "try:\n",
    "    if car not in doors:\n",
    "        print(\"Error: please set the car variable to one of 'red', 'green' or 'blue'!\")\n",
    "        aok = False\n",
    "except NameError:\n",
    "    print(\"Error: please set the car variable to one of 'red', 'green' or 'blue'!\")\n",
    "    aok = False\n",
    "\n",
    "# Make sure pick is set to a door.\n",
    "try:\n",
    "    if pick not in doors:\n",
    "        print(\"Error: please set the pick variable to one of 'red', 'green' or 'blue'!\")\n",
    "        aok = False\n",
    "except NameError:\n",
    "    print(\"Error: please set the pick variable to one of 'red', 'green' or 'blue'!\")\n",
    "    aok = False\n",
    "\n",
    "# If there are no problems, print a statement to continue.\n",
    "if aok:\n",
    "    print(\"Quick Check 2: everything is running okay, please continue.\")"
   ]
  },
  {
   "cell_type": "markdown",
   "metadata": {},
   "source": [
    "###### Plot twist\n",
    "***"
   ]
  },
  {
   "cell_type": "markdown",
   "metadata": {},
   "source": [
    "- ~~here comes a plot twist - so this is related to the second choice that you are going to be asked to make - so the car has now been randomly placed behind one of the doors - and you have selected the door you think it might be behind - just guessed - next - the host throws in a twist - they open one of the doors that you have not picked and shows you that theres a goat behind it - so we pick the green door - so the host now opens one of the red or the blue doors - and shows you that theres a goat behind it - so you picked green - the host shows you that the car was not behind the red - just for arguments sake - now - just remember - right theres a goat behind two of the doors under the car behind the other one - so the host can always open so long as the host knows where the car is - or better yet - presume the producers know - and the producers tell the host which doors open at that stage - no matter which way you look at it - theres always an option for the producers to show you that one of the doors has a goat behind it - because theres really only two scenarios - if you have picked the correct door that has the car behind it - so you have picked green - lets say the car happened to be behind the green door - goats are behind the red and blue doors now - so the host can just go or the producers can say look open the red door or open the blue door does not matter - they have a choice - alternatively - you picked the green door - and maybe the car is not buying the green door - if we knew that the car was not behind the green door - we know it is either behind the red one or the blue one - if the car happens to be behind the blue door - well then theres a goat behind the red and the green doors - you have picked the green door so they do not open that - so they can only open the red door and show you there is a goat behind it~~ [\n",
    "[...] I. McLoughlin, \"Win a car,\" GMIT, October 2020.\n",
    "]"
   ]
  },
  {
   "cell_type": "markdown",
   "metadata": {},
   "source": [
    "- ~~so my point there is just that the producers always no matter what has happened up to that point in the game - they are always able to open one of the doors that you have not picked and show you that theres a goat behind it - either you pick the car and they can open either the red or the blue door so they just pick one at random and show you that theres a goat behind that because the goat is behind both of them or you have not picked the right door - the car is not behind the green door - and then theres a goat behind the green door or one of the red or blue doors - so the producers should say - open the blue door there because thats the one with the goat behind it - the car is behind the red - they do not tell you the car is behind the red - all they show you was that there was a goat point one of the doors - so thats the twist~~ [\n",
    "[...] I. McLoughlin, \"Win a car,\" GMIT, October 2020.\n",
    "]"
   ]
  },
  {
   "cell_type": "markdown",
   "metadata": {},
   "source": [
    "- ~~so you have picked a door - they have randomly put a car behind one of the doors - you pick one of the doors at random or using your own intuition or whatever - and next thing - they open one of the doors you have not picked and shows you that theres a goat behind it - and you are guaranteed that there is one such door at least - so lets run this cell - which simulates the producers showing you that theres a goat behind one of the doors - so click into the cell - hold on shift and press enter - and then you get this little blurb here that says host - so heres what the host says - you chose the green door - the producers have told me i can reveal to you that there was a goat behind the red door - so the host goes down opens the red door - goat behind it - no car - and then he asks this question - my question to you now is this - do you want to stick with the green door that was your original choice or do you want to switch to the blue door given that we know that theres a goat behind the red door~~ [\n",
    "[...] I. McLoughlin, \"Win a car,\" GMIT, October 2020.\n",
    "]"
   ]
  },
  {
   "cell_type": "markdown",
   "metadata": {},
   "source": [
    "***\n",
    "The car has now been randomly placed behind one of the doors and you have selected the door you think it might be behind.\n",
    "Next, the host throws in a twist.\n",
    "They open one of the doors that you have not picked and shows you there is a goat behind it.\n",
    "\n",
    "Note there is definitely a goat behind at least one of those two doors, and possibly behind both if you have already picked the car.\n",
    "The producers know where the car is and they make sure the host opens a door with a goat behind it.\n",
    "\n",
    "Run the cell below to simulate the host opening one of the doors.\n",
    "***"
   ]
  },
  {
   "cell_type": "markdown",
   "metadata": {},
   "source": [
    "[\n",
    "[...] I. McLoughlin, \"Win a car,\" GMIT, October 2020.\n",
    "]"
   ]
  },
  {
   "cell_type": "code",
   "execution_count": 10,
   "metadata": {},
   "outputs": [
    {
     "name": "stdout",
     "output_type": "stream",
     "text": [
      "\n",
      "Host:\n",
      "\n",
      "You chose the green door. The producers have told me I can reveal to you that there is a goat behind the blue door.\n",
      "My question to you now is this: do you want to stick with the green door or do you want to switch to the red door?\n",
      "\n"
     ]
    }
   ],
   "source": [
    "# Pick a random door that was neither picked by the contestant nor has the car behind it.\n",
    "show = random.choice([door for door in doors if door != car and door != pick])\n",
    "\n",
    "# Figure out which door was not opened or picked.\n",
    "notopen = [door for door in doors if door != pick and door != show][0]\n",
    "\n",
    "# What the host says.\n",
    "print(\"\\nHost:\")\n",
    "print(f\"\"\"\n",
    "You chose the {pick} door. The producers have told me I can reveal to you that there is a goat behind the {show} door.\n",
    "My question to you now is this: do you want to stick with the {pick} door or do you want to switch to the {notopen} door?\n",
    "\"\"\")"
   ]
  },
  {
   "cell_type": "markdown",
   "metadata": {},
   "source": [
    "###### Your second choice\n",
    "***"
   ]
  },
  {
   "cell_type": "markdown",
   "metadata": {},
   "source": [
    "- ~~so now you have your second choice - so you have got to choose whether you are gonna stay with your current selection - which was the green door for me - but it could be different for you - do you want to stay true or false - if you set this to true - just say stay equals false - going to switch - i do not know why - i just got does not seem like it makes any difference - right - so i just got to switch - so i originally picked the green door - again - you might have picked another door - they have shown me that theres goat in the red door - so my question - if i said stay true - going to stick with the green door - i set it to false - going to move to the blue door - so set to false and move to the blue door - like does not make any difference - you just answer it the way you want - you do not have to pick the green door initially - like i did - and you do not have to stay or you do not have to switch door now at this stage - you make your own two decisions - not saying that this is the right way to play it a all~~ [\n",
    "[...] I. McLoughlin, \"Win a car,\" GMIT, October 2020.\n",
    "]"
   ]
  },
  {
   "cell_type": "markdown",
   "metadata": {},
   "source": [
    "***\n",
    "So, the host asks if you want to stick with your current door or change to the remaining door that you have not picked and they have not opened.\n",
    "Once you make your decision, all doors will be opened to reveal which one has the car behind it.\n",
    "\n",
    "In the next cell, indicate whether you will stay with your current choice of door or switch by setting the `stay` variable to `True` or `False`.\n",
    "\n",
    "- Set `stay` to `True` if you would like to stick with your current choice of door.\n",
    "- Set `stay` to `False` if you would like to switch to the other door offered by the host.\n",
    "***"
   ]
  },
  {
   "cell_type": "markdown",
   "metadata": {},
   "source": [
    "[\n",
    "[...] I. McLoughlin, \"Win a car,\" GMIT, October 2020.\n",
    "]"
   ]
  },
  {
   "cell_type": "code",
   "execution_count": 11,
   "metadata": {},
   "outputs": [],
   "source": [
    "# You want to stay with your current door: True or False?\n",
    "stay = False"
   ]
  },
  {
   "cell_type": "markdown",
   "metadata": {},
   "source": [
    "###### Quick check 3\n",
    "***"
   ]
  },
  {
   "cell_type": "markdown",
   "metadata": {},
   "source": [
    "***\n",
    "Run the cell below to make sure everything at this point is running okay.\n",
    "***"
   ]
  },
  {
   "cell_type": "markdown",
   "metadata": {},
   "source": [
    "[\n",
    "[...] I. McLoughlin, \"Win a car,\" GMIT, October 2020.\n",
    "]"
   ]
  },
  {
   "cell_type": "code",
   "execution_count": 12,
   "metadata": {},
   "outputs": [
    {
     "name": "stdout",
     "output_type": "stream",
     "text": [
      "Quick Check 3: everything is running okay, please continue.\n"
     ]
    }
   ],
   "source": [
    "# Assume everything is running okay.\n",
    "aok = True\n",
    "\n",
    "# Make sure the stay variable is set to True or False.\n",
    "try:\n",
    "    if stay not in [True, False]:\n",
    "        print(\"Error: please set the stay variable to either True or False!\")\n",
    "        aok = False\n",
    "except NameError:\n",
    "    print(\"Error: please set the stay variable to either True or False!\")\n",
    "    aok = False\n",
    "\n",
    "# If there are no problems, print a statement to continue.\n",
    "if aok:\n",
    "    print(\"Quick Check 3: everything is running okay, please continue.\")"
   ]
  },
  {
   "cell_type": "markdown",
   "metadata": {},
   "source": [
    "###### The reveal\n",
    "***"
   ]
  },
  {
   "cell_type": "markdown",
   "metadata": {},
   "source": [
    "***\n",
    "Run the cell below to see if you would have won the car.\n",
    "Remember it's just a bit of fun so it doesn't matter whether or not you won.\n",
    "***"
   ]
  },
  {
   "cell_type": "markdown",
   "metadata": {},
   "source": [
    "[\n",
    "[...] I. McLoughlin, \"Win a car,\" GMIT, October 2020.\n",
    "]"
   ]
  },
  {
   "cell_type": "markdown",
   "metadata": {},
   "source": [
    "- ~~so lets do a quick check three - hold on - shift and press enter in this cell - everythings running ok - so if you do not see everythings running - you have made some error in setting the variables up - so then we come to the reveal - run the cell below to see if you won the car - so like you will see here in the code like theres nothing hidden behind the code - not supposed to read the code and figure out the correct answer is - its only when you run this its going to tell you what what door the car was actually behind~~ [\n",
    "[...] I. McLoughlin, \"Win a car,\" GMIT, October 2020.\n",
    "]"
   ]
  },
  {
   "cell_type": "markdown",
   "metadata": {},
   "source": [
    "- ~~click into the cell - hold on shift - press enter - host originally picked the green door and i showed you there was a go behind the red door - know that i asked you if you wanted to stay with the green door or change the blue door you decided to change - i can now reveal to you that the car was behind the blue door - hey - and I have won - brilliant look forward to get my car - so i actually want - so - look at me - glitter cannons go off - you know - somebody comes out and hands me the keys in the car - and they are now videoing me - you know - sitting into the car - giving it a goal - you know - whatever - so you might win - you might lose - it is a game of chance - you know - at the offset - it looks like you have got a 33% chance of winning maybe - one in three chance - so - you know - you probably lose - i guess because i just i just happen to be lucky here~~ [\n",
    "[...] I. McLoughlin, \"Win a car,\" GMIT, October 2020.\n",
    "] "
   ]
  },
  {
   "cell_type": "code",
   "execution_count": 13,
   "metadata": {},
   "outputs": [
    {
     "name": "stdout",
     "output_type": "stream",
     "text": [
      "\n",
      "Host:\n",
      "\n",
      "You originally picked the green door and I showed you there was a goat behind the blue door.\n",
      "I asked you if you wanted to stay with the green door or change to the red door.\n",
      "You decided to change.\n",
      "I can now reveal to you that the car was behind the red door.\n",
      "You have won.\n",
      "\n"
     ]
    }
   ],
   "source": [
    "# Tell the user which door was opened by the host.\n",
    "print()\n",
    "print(\"Host:\")\n",
    "print(f\"\"\"\n",
    "You originally picked the {pick} door and I showed you there was a goat behind the {show} door.\n",
    "I asked you if you wanted to stay with the {pick} door or change to the {notopen} door.\n",
    "You decided to {'stay' if stay else 'change'}.\n",
    "I can now reveal to you that the car was behind the {car} door.\n",
    "You have {'won' if car == [pick, notopen][not stay] else 'not won'}.\n",
    "\"\"\")"
   ]
  },
  {
   "cell_type": "markdown",
   "metadata": {},
   "source": [
    "###### Summary\n",
    "***"
   ]
  },
  {
   "cell_type": "markdown",
   "metadata": {},
   "source": [
    "- ~~you have played the game - now - if you have been playing along with me - thats fine if you are running on version - but if you have not - or even if you just want to rerun the game - go back up to the kernel menu - restart clear output - restart - click on clear all outputs - and now you should be back to the scratch - the only thing that will still be there is where you have set the variables true or false - you have selected an option here for pick - you have decided whether you are going to stay or not - and thats all the code changes that you made~~ [\n",
    "[...] I. McLoughlin, \"Win a car,\" GMIT, October 2020.\n",
    "] "
   ]
  },
  {
   "cell_type": "markdown",
   "metadata": {},
   "source": [
    "- ~~so you can rerun the game if you want - but just do not google anything - and do not run the game over and over again - trying to see a pattern or anything like that - just play the game once play along with me and copy and paste and put on a forum - or if you want to give it another go - having watched this video - thats fine - too - but just think about it yourself - do not go googling the game - and try to convince yourself either that its a pure game of chance - or that theres a strategy that you could have - that makes a difference~~ [\n",
    "[...] I. McLoughlin, \"Win a car,\" GMIT, October 2020.\n",
    "] "
   ]
  },
  {
   "cell_type": "markdown",
   "metadata": {},
   "source": [
    "- ~~and this is all about our intuition for probability - you know - some people are convinced sometimes - particularly gamblers and and people - maybe - who are addicted to gambling - unfortunately - sometimes are convinced of their own powers - their own ability to work out probabilities - or that they just know they have a very good intuition for things - and they make the mistake of thinking that there is a strategy that you can have in a game of chance - likewise - some people think that certain things are just totally chance - you know - that its just down to luck - and then - you know - data analytics - people sometimes come along and identify situations - they actually maybe thats not as random as people think it is - and maybe i can exploit that - maybe theres like a 1% chance of how do i put this right maybe its not quite one third - one third - one third - maybe its more like - i do not know - 35 - 35 - 30 - so theres one option that you should not go for something like that - so this is about your own intuitive feel for whether you think a play like this is totally random - or whether you can convince yourself that if not totally random - and come up with some rationale for that - and its just interesting to see quite different people - how different people perceive this game~~ [\n",
    "[...] I. McLoughlin, \"Win a car,\" GMIT, October 2020.\n",
    "]"
   ]
  },
  {
   "cell_type": "markdown",
   "metadata": {},
   "source": [
    "###### What to submit to the course page\n",
    "***"
   ]
  },
  {
   "cell_type": "markdown",
   "metadata": {},
   "source": [
    "***\n",
    "Please run the following Python code and copy and paste the output below it to the link on the Moodle page.\n",
    "***"
   ]
  },
  {
   "cell_type": "markdown",
   "metadata": {},
   "source": [
    "[\n",
    "[...] I. McLoughlin, \"Win a car,\" GMIT, October 2020.\n",
    "]"
   ]
  },
  {
   "cell_type": "code",
   "execution_count": 14,
   "metadata": {},
   "outputs": [
    {
     "name": "stdout",
     "output_type": "stream",
     "text": [
      "Please copy and paste the following output into the textbox on the Moodle page:\n",
      "\n",
      "True,False,False,red,green,False\n"
     ]
    }
   ],
   "source": [
    "print(\"Please copy and paste the following output into the textbox on the Moodle page:\")\n",
    "print()\n",
    "print(f\"{einstein},{monty},{savant},{car},{pick},{stay}\")"
   ]
  },
  {
   "cell_type": "markdown",
   "metadata": {},
   "source": [
    "***\n",
    "# End"
   ]
  }
 ],
 "metadata": {
  "kernelspec": {
   "display_name": "Python 3",
   "language": "python",
   "name": "python3"
  },
  "language_info": {
   "codemirror_mode": {
    "name": "ipython",
    "version": 3
   },
   "file_extension": ".py",
   "mimetype": "text/x-python",
   "name": "python",
   "nbconvert_exporter": "python",
   "pygments_lexer": "ipython3",
   "version": "3.8.3"
  }
 },
 "nbformat": 4,
 "nbformat_minor": 2
}
