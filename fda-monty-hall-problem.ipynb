{
 "cells": [
  {
   "cell_type": "code",
   "execution_count": null,
   "metadata": {},
   "outputs": [
    {
     "data": {
      "text/html": [
       "<script>Jupyter.notebook.kernel.restart()</script>"
      ]
     },
     "metadata": {},
     "output_type": "display_data"
    }
   ],
   "source": [
    "from IPython.core.display import display_html\n",
    "display_html(\"<script>Jupyter.notebook.kernel.restart()</script>\",raw=True)"
   ]
  },
  {
   "cell_type": "code",
   "execution_count": 1,
   "metadata": {},
   "outputs": [
    {
     "data": {
      "text/html": [
       "<style>.container { width:100% !important; }</style>"
      ],
      "text/plain": [
       "<IPython.core.display.HTML object>"
      ]
     },
     "metadata": {},
     "output_type": "display_data"
    },
    {
     "data": {
      "text/html": [
       "<style>.container { width:100% !important; }</style>"
      ],
      "text/plain": [
       "<IPython.core.display.HTML object>"
      ]
     },
     "metadata": {},
     "output_type": "display_data"
    }
   ],
   "source": [
    "from sys import path; path.insert(1,\"../src\");\n",
    "import fubar; from importlib import reload; reload(fubar);"
   ]
  },
  {
   "cell_type": "markdown",
   "metadata": {},
   "source": [
    "***\n",
    "< [GMIT Data Analytics](https://web.archive.org/web/20201029063153/https://www.gmit.ie/computer-science-and-applied-physics/higher-diploma-science-computing-data-analytics-ict) | [Home](https://github.com/SeanOhAileasa) | [README](https://github.com/SeanOhAileasa/fda-monty-hall-problem/blob/main/README.md) >\n",
    "\n",
    "[![GMIT](https://github.com/SeanOhAileasa/SeanOhAileasa/blob/master/rc/gmit.png?raw=true)](https://web.archive.org/web/20201029063153/https://www.gmit.ie/computer-science-and-applied-physics/higher-diploma-science-computing-data-analytics-ict)\n",
    "\n",
    "## Fundamentals of Data Analysis - Course Material 2020\n",
    "### Topic: [Monty Hall Problem](https://nbviewer.jupyter.org/github/SeanOhAileasa/fda-monty-hall-problem/blob/main/fda-monty-hall-problem.ipynb)\n",
    "***"
   ]
  },
  {
   "cell_type": "markdown",
   "metadata": {},
   "source": [
    "Course material for the ``Fundamentals of Data Analysis`` module (5 Credits) of the ``Higher Diploma in Science in Computing (Data Analytics) (H.Dip)`` programme (75 Credits) at **Galway-Mayo Institute of Technology (GMIT)**."
   ]
  },
  {
   "cell_type": "markdown",
   "metadata": {},
   "source": [
    "- referenced external link - [Machine Learning & Statistics](https://nbviewer.jupyter.org/github/SeanOhAileasa/mls-machine-learning-statistics/blob/main/mls-machine-learning-statistics.ipynb)"
   ]
  },
  {
   "cell_type": "code",
   "execution_count": 2,
   "metadata": {},
   "outputs": [],
   "source": [
    "from sys import path; path.insert(1,\"../src\")\n",
    "from fubar import fFile"
   ]
  },
  {
   "cell_type": "code",
   "execution_count": 3,
   "metadata": {},
   "outputs": [
    {
     "name": "stdout",
     "output_type": "stream",
     "text": [
      "# repository ./SeanOhAileasa\r\n",
      "def fFile(nParPath):\r\n",
      "    \"\"\"Start a file with its associated application.\r\n",
      "\r\n",
      "Input: nParPath\r\n",
      "Process: (os.path.realpath; os.startfile)\r\n",
      "Output: file opened with associated application\r\n",
      "\"\"\"\r\n",
      "    from os import path,startfile\r\n",
      "    return startfile(path.realpath(nParPath))\r\n",
      "# --- END ---\r\n"
     ]
    }
   ],
   "source": [
    "%%script bash\n",
    "grep -1 \"def fFile\" ../src/fubar.py -A 9"
   ]
  },
  {
   "cell_type": "markdown",
   "metadata": {},
   "source": [
    "<a id=\"top\"></a>\n",
    "***\n",
    "## Table of Contents\n",
    "***\n",
    "\n",
    "## [Abstract](#abstract)\n",
    "\n",
    "## [Introduction](#introduction)\n",
    "    \n",
    "* [``random``](#introductionrandom)\n",
    "\n",
    "## [Solution](#solution)\n",
    "\n",
    "- &#x1F6A7;\n",
    "\n",
    "## [Conclusion](#conclusion)\n",
    "\n",
    "- &#x1F6A7;"
   ]
  },
  {
   "cell_type": "code",
   "execution_count": null,
   "metadata": {},
   "outputs": [],
   "source": [
    "fFile(\"./hide/025_1-Win a car - 23-10-2020.mp4\")"
   ]
  },
  {
   "cell_type": "code",
   "execution_count": null,
   "metadata": {},
   "outputs": [],
   "source": [
    "fFile(\"./hide/027-Monty Hall Problem - 23-10-2020.mp4\")"
   ]
  },
  {
   "cell_type": "markdown",
   "metadata": {},
   "source": [
    "***\n",
    "## END"
   ]
  },
  {
   "cell_type": "markdown",
   "metadata": {},
   "source": [
    "< [Table of Contents](#top) | [Introduction](#introduction) | [Solution](#solution) | [Conclusion](#conclusion) | [References](#references) >\n",
    "<a id=\"abstract\"></a>\n",
    "***\n",
    "## Abstract\n",
    "***"
   ]
  },
  {
   "cell_type": "markdown",
   "metadata": {},
   "source": [
    "- simulate playing a simple game of chance whereby asked to make two choices [1]"
   ]
  },
  {
   "cell_type": "markdown",
   "metadata": {},
   "source": [
    "- as a contestant on a game show asked to make two different choices (yes or no questions) and at the end might win a car - can a strategy be devised or not - this is just a game of chance (winning or losing is not the purpose) [1]"
   ]
  },
  {
   "cell_type": "markdown",
   "metadata": {},
   "source": [
    "- the contestant must convince themselve that either that its a pure game of chance or theres a strategy that makes a difference - this is about intuition for probability [1]"
   ]
  },
  {
   "cell_type": "markdown",
   "metadata": {},
   "source": [
    "- some people are convinced (particularly gamblers and people who are addicted to gambling unfortunately) of their own powers - their own ability to work out probabilities or just know they have a very good intuition for things - making the mistake of thinking that there is a strategy that one can have in a game of chance [1]"
   ]
  },
  {
   "cell_type": "markdown",
   "metadata": {},
   "source": [
    "- some people think that certain things are just totally by chance (down to luck) [1]"
   ]
  },
  {
   "cell_type": "markdown",
   "metadata": {},
   "source": [
    "- applying data analytics can identify situations that are maybe not as random as people thought and can exploit it [1]"
   ]
  },
  {
   "cell_type": "markdown",
   "metadata": {},
   "source": [
    "- this ``Jupyter Notebook`` is about the intuitive feel for whether a game like ``Win a Car`` is totally random or is not totally random [1]"
   ]
  },
  {
   "cell_type": "markdown",
   "metadata": {},
   "source": [
    "- simulate the ``Win a Car`` game and the contestant (user of this ``Jupyter Notebook``) is going to type into the code cells information [1]"
   ]
  },
  {
   "cell_type": "markdown",
   "metadata": {},
   "source": [
    "***\n",
    "## END"
   ]
  },
  {
   "cell_type": "markdown",
   "metadata": {},
   "source": [
    "< [Table of Contents](#top) | [Abstract](#abstract) | [Solution](#solution) | [Conclusion](#conclusion) | [References](#references) >\n",
    "<a id=\"introduction\"></a>\n",
    "***\n",
    "## Introduction\n",
    "***"
   ]
  },
  {
   "cell_type": "markdown",
   "metadata": {},
   "source": [
    "- the game is adapted from an old tv show whereby the contestant after going through a number of rounds (eliminating the other contestants) is finally left with the chance to win a car [1]"
   ]
  },
  {
   "cell_type": "markdown",
   "metadata": {},
   "source": [
    "- it is the purpose of the game show host to try to get the contestant not to win the car - its reasonable to expect the contestant is likely to lose the game [1]"
   ]
  },
  {
   "cell_type": "markdown",
   "metadata": {},
   "source": [
    "- the contestant is presented with three closed doors and told that the car has been randomly placed behind one of these doors by the producers using some algorithm making sure its randomly behind it (the other two doors have a goat behind them) [1]"
   ]
  },
  {
   "cell_type": "markdown",
   "metadata": {},
   "source": [
    "![x3 Closed Doors](https://github.com/SeanOhAileasa/SeanOhAileasa/blob/master/rc/fda/monty-hall-problem/monty-closed.png?raw=true)\n",
    "\n",
    "***(Image) I. McLoughlin, \"Win a car,\" GMIT, October 2020.***"
   ]
  },
  {
   "cell_type": "markdown",
   "metadata": {},
   "source": [
    "- setting each of the following three variables (``einstein`` and ``monty`` and ``savant``) to either ``True`` or ``False`` in the cells below (contestant input) [1]"
   ]
  },
  {
   "cell_type": "markdown",
   "metadata": {},
   "source": [
    "- set ``einstein`` to ``True`` if ever heard of someone called Albert Einstein and ``False`` otherwise [1]"
   ]
  },
  {
   "cell_type": "markdown",
   "metadata": {},
   "source": [
    "- set ``monty`` to ``True`` if ever heard of someone called Monty Hall and ``False`` otherwise [1]"
   ]
  },
  {
   "cell_type": "markdown",
   "metadata": {},
   "source": [
    "- set ``savant`` to ``True`` if ever heard of someone called Marilyn vos Savant and ``False`` otherwise (type the following in the cell below and press ``Shift+Enter``) [1]"
   ]
  },
  {
   "cell_type": "code",
   "execution_count": 1,
   "metadata": {},
   "outputs": [],
   "source": [
    "einstein,monty,savant=True,False,False"
   ]
  },
  {
   "cell_type": "markdown",
   "metadata": {},
   "source": [
    "- a quick check to verify everything is done correctly [1]"
   ]
  },
  {
   "cell_type": "code",
   "execution_count": 2,
   "metadata": {},
   "outputs": [],
   "source": [
    "aok=True # assume running okay"
   ]
  },
  {
   "cell_type": "code",
   "execution_count": 3,
   "metadata": {},
   "outputs": [],
   "source": [
    "try: # einstein True/False\n",
    "    if einstein not in [True,False]:\n",
    "        print(\"Error: please set the einstein variable to either True or False!\")\n",
    "        aok=False\n",
    "except NameError:\n",
    "    print(\"Error: please set the einstein variable to either True or False!\")\n",
    "    aok=False\n",
    "try: # monty True/False\n",
    "    if monty not in [True,False]:\n",
    "        print(\"Error: please set the monty variable to either True or False!\")\n",
    "        aok=False\n",
    "except NameError:\n",
    "    print(\"Error: please set the monty variable to either True or False!\")\n",
    "    aok=False\n",
    "try: # savant True/False\n",
    "    if savant not in [True,False]:\n",
    "        print(\"Error: please set the savant variable to either True or False!\")\n",
    "        aok=False\n",
    "except NameError:\n",
    "    print(\"Error: please set the savant variable to either True or False!\")\n",
    "    aok=False"
   ]
  },
  {
   "cell_type": "code",
   "execution_count": 4,
   "metadata": {},
   "outputs": [
    {
     "name": "stdout",
     "output_type": "stream",
     "text": [
      "Quick Check 1: everything is running okay, please continue.\n"
     ]
    }
   ],
   "source": [
    "if aok: # no problems continue\n",
    "    print(\"Quick Check 1: everything is running okay, please continue.\")"
   ]
  },
  {
   "cell_type": "markdown",
   "metadata": {},
   "source": [
    "< [Table of Contents](#top) | [References](#references) >\n",
    "<a id=\"introductionrandom\"></a>\n",
    "***\n",
    "###### ``random``\n",
    "***"
   ]
  },
  {
   "cell_type": "markdown",
   "metadata": {},
   "source": [
    "- generating a random choice between the three doors - randomly selecting a door to put the car behind (breaking the fourth wall) [1]"
   ]
  },
  {
   "cell_type": "markdown",
   "metadata": {},
   "source": [
    "- going to mimic what the producers of the show do by randomly selecting one of the doors to put the car behind [1]"
   ]
  },
  {
   "cell_type": "markdown",
   "metadata": {},
   "source": [
    "- the contestant does not know which door it is hence picking one of the doors [1]"
   ]
  },
  {
   "cell_type": "markdown",
   "metadata": {},
   "source": [
    "- using the python libaray ``random`` to generate pseudo-random numbers [1]"
   ]
  },
  {
   "cell_type": "code",
   "execution_count": 5,
   "metadata": {},
   "outputs": [],
   "source": [
    "import random"
   ]
  },
  {
   "cell_type": "code",
   "execution_count": 6,
   "metadata": {},
   "outputs": [],
   "source": [
    "doors=[\"red\",\"green\",\"blue\"] # list three doors"
   ]
  },
  {
   "cell_type": "markdown",
   "metadata": {},
   "source": [
    "- ``car`` is going to be set randomly to one of the three items (either ``red`` or ``green`` or ``blue``) [1]"
   ]
  },
  {
   "cell_type": "markdown",
   "metadata": {},
   "source": [
    "- by random the probability of it being ``red`` will be a third and the probability of it being ``green`` will be third and the probability of it being ``blue`` will be a third [1]"
   ]
  },
  {
   "cell_type": "markdown",
   "metadata": {},
   "source": [
    "- each of the three doors is equally likely (nothing going on behind the scenes) - assuming the producer is totally honest (no trick up the sleeve or anything like that) [1]"
   ]
  },
  {
   "cell_type": "code",
   "execution_count": 7,
   "metadata": {},
   "outputs": [],
   "source": [
    "car=random.choice(doors) # pick random door"
   ]
  },
  {
   "cell_type": "markdown",
   "metadata": {},
   "source": [
    "- do not look at the value of ``car`` (the point is ``car`` is meant to be hidden) - ``car`` is now in memory and could easily ask python what ``car`` is (either ``red`` or ``green`` or ``blue``) [1]"
   ]
  },
  {
   "cell_type": "code",
   "execution_count": 8,
   "metadata": {},
   "outputs": [
    {
     "name": "stdout",
     "output_type": "stream",
     "text": [
      "From Python: I've randomly selected a door to put the car behind.\n"
     ]
    }
   ],
   "source": [
    "print(\"From Python: I've randomly selected a door to put the car behind.\")"
   ]
  },
  {
   "cell_type": "markdown",
   "metadata": {},
   "source": [
    "- the producers have randomly selected one of the doors to put the car behind [1]"
   ]
  },
  {
   "cell_type": "markdown",
   "metadata": {},
   "source": [
    "- the contestant now picks which door the car is behind and hopes its the ``green`` door [1]"
   ]
  },
  {
   "cell_type": "code",
   "execution_count": 9,
   "metadata": {},
   "outputs": [],
   "source": [
    "pick=\"green\" # red green blue"
   ]
  },
  {
   "cell_type": "markdown",
   "metadata": {},
   "source": [
    "- a quick check to verify everything is done correctly [1]"
   ]
  },
  {
   "cell_type": "code",
   "execution_count": 10,
   "metadata": {},
   "outputs": [],
   "source": [
    "aok=True # assume running okay"
   ]
  },
  {
   "cell_type": "code",
   "execution_count": 11,
   "metadata": {},
   "outputs": [],
   "source": [
    "try: # set to door\n",
    "    if car not in doors:\n",
    "        print(\"Error: please set the car variable to one of 'red', 'green' or 'blue'!\")\n",
    "        aok=False\n",
    "except NameError:\n",
    "    print(\"Error: please set the car variable to one of 'red', 'green' or 'blue'!\")\n",
    "    aok=False\n",
    "\n",
    "try: # pick set door\n",
    "    if pick not in doors:\n",
    "        print(\"Error: please set the pick variable to one of 'red', 'green' or 'blue'!\")\n",
    "        aok=False\n",
    "except NameError:\n",
    "    print(\"Error: please set the pick variable to one of 'red', 'green' or 'blue'!\")\n",
    "    aok=False"
   ]
  },
  {
   "cell_type": "code",
   "execution_count": 12,
   "metadata": {},
   "outputs": [
    {
     "name": "stdout",
     "output_type": "stream",
     "text": [
      "Quick Check 2: everything is running okay, please continue.\n"
     ]
    }
   ],
   "source": [
    "if aok: # no problems continue\n",
    "    print(\"Quick Check 2: everything is running okay, please continue.\")"
   ]
  },
  {
   "cell_type": "markdown",
   "metadata": {},
   "source": [
    "- now comes a plot twist and this is related to the second choice the contestant is going to be asked to make [1]"
   ]
  },
  {
   "cell_type": "markdown",
   "metadata": {},
   "source": [
    "- the car has now been randomly placed behind one of the doors - the contestant has selected (guessed using intuition or whatever) the door the car might be behind [1]"
   ]
  },
  {
   "cell_type": "markdown",
   "metadata": {},
   "source": [
    "- the host now opens one of the doors not picked by the contestant and theres a goat behind it - the contestant has picked the ``green`` door so the host now opens one of the remaining ``red`` or the ``blue`` doors [1]"
   ]
  },
  {
   "cell_type": "markdown",
   "metadata": {},
   "source": [
    "- the host shows the contestant that the car is not behind the ``red`` door (for arguments sake) - as long as the host knows where the car is (or better yet lets presume the producers know) then the producers can tell the host which doors to open at this stage [1]"
   ]
  },
  {
   "cell_type": "markdown",
   "metadata": {},
   "source": [
    "- no matter which way to look at it theres always an option for the producers to show that one of the doors has a goat behind it because theres really only two scenarios - if the contestant picked the correct door that has the car behind it (``green``) then there are goats behind the ``red`` and ``blue`` doors now - the producers can tell the host to open the ``red`` or the ``blue`` door as it now does not matter (the producers now have a choice assuming the car is behind the ``green`` door) [1]"
   ]
  },
  {
   "cell_type": "markdown",
   "metadata": {},
   "source": [
    "- alternatively maybe the car is not behing the ``green`` door - if the produces know that the car is not behind the ``green`` door and the car happens to be behind the ``blue`` door then theres a goat behind the ``red`` and the ``green`` doors - the producers can only open the ``red`` door and show the contestant there is a goat behind it [1]"
   ]
  },
  {
   "cell_type": "markdown",
   "metadata": {},
   "source": [
    "- so the point is the producers no matter what has happened up to this point in the game are always able to open one of the doors that the contestant has not picked and show theres a goat behind it [1]"
   ]
  },
  {
   "cell_type": "markdown",
   "metadata": {},
   "source": [
    "- now one of the doors the contestant has not picked has a goat behind it - simulating the producers showing the contestant that theres a goat behind one of the doors [1]"
   ]
  },
  {
   "cell_type": "markdown",
   "metadata": {},
   "source": [
    "- ``show`` a random door that was neither picked by the contestant nor has the car behind it [1]"
   ]
  },
  {
   "cell_type": "code",
   "execution_count": 13,
   "metadata": {},
   "outputs": [],
   "source": [
    "show=random.choice([door for door in doors if door!=car and door!=pick])"
   ]
  },
  {
   "cell_type": "markdown",
   "metadata": {},
   "source": [
    "- ``notopen`` to determine which door was not opened or picked [1]"
   ]
  },
  {
   "cell_type": "code",
   "execution_count": 14,
   "metadata": {},
   "outputs": [],
   "source": [
    "notopen=[door for door in doors if door!=pick and door!=show][0]"
   ]
  },
  {
   "cell_type": "code",
   "execution_count": 15,
   "metadata": {},
   "outputs": [
    {
     "name": "stdout",
     "output_type": "stream",
     "text": [
      "\n",
      "Host:\n",
      "\n",
      "You chose the green door. The producers have told me I can reveal to you that there is a goat behind the red door.\n",
      "My question to you now is this: do you want to stick with the green door or do you want to switch to the blue door?\n",
      "\n"
     ]
    }
   ],
   "source": [
    "print(\"\\nHost:\")\n",
    "print(f\"\"\"\n",
    "You chose the {pick} door. The producers have told me I can reveal to you that there is a goat behind the {show} door.\n",
    "My question to you now is this: do you want to stick with the {pick} door or do you want to switch to the {notopen} door?\n",
    "\"\"\")"
   ]
  },
  {
   "cell_type": "markdown",
   "metadata": {},
   "source": [
    "- now the contestant has a second choice (whether to stay with the current selection) picking either ``True`` or ``False`` (no right or wrong answer) [1]"
   ]
  },
  {
   "cell_type": "markdown",
   "metadata": {},
   "source": [
    "- set ``stay`` to ``True`` if sticking with the current choice of door or set ``stay`` to ``False`` to switch to the other door offered by the host [1]"
   ]
  },
  {
   "cell_type": "code",
   "execution_count": 16,
   "metadata": {},
   "outputs": [],
   "source": [
    "stay=False # stay yes no"
   ]
  },
  {
   "cell_type": "markdown",
   "metadata": {},
   "source": [
    "- a quick check to verify everything is done correctly [1]"
   ]
  },
  {
   "cell_type": "code",
   "execution_count": 17,
   "metadata": {},
   "outputs": [],
   "source": [
    "aok=True # assume running okay"
   ]
  },
  {
   "cell_type": "code",
   "execution_count": 18,
   "metadata": {},
   "outputs": [],
   "source": [
    "try: # stay True or False\n",
    "    if stay not in [True,False]:\n",
    "        print(\"Error: please set the stay variable to either True or False!\")\n",
    "        aok=False\n",
    "except NameError:\n",
    "    print(\"Error: please set the stay variable to either True or False!\")\n",
    "    aok=False"
   ]
  },
  {
   "cell_type": "code",
   "execution_count": 19,
   "metadata": {},
   "outputs": [
    {
     "name": "stdout",
     "output_type": "stream",
     "text": [
      "Quick Check 3: everything is running okay, please continue.\n"
     ]
    }
   ],
   "source": [
    "if aok: # no problems continue\n",
    "    print(\"Quick Check 3: everything is running okay, please continue.\")"
   ]
  },
  {
   "cell_type": "markdown",
   "metadata": {},
   "source": [
    "- now comes the reveal - note there is nothing hidden behind the code that would allow the correct answer to be figured out - its only when run its going to tell the contestant what door the car was actually behind [1]"
   ]
  },
  {
   "cell_type": "code",
   "execution_count": 20,
   "metadata": {},
   "outputs": [
    {
     "name": "stdout",
     "output_type": "stream",
     "text": [
      "\n",
      "Host:\n",
      "\n",
      "You originally picked the green door and I showed you there was a goat behind the red door.\n",
      "I asked you if you wanted to stay with the green door or change to the blue door.\n",
      "You decided to change.\n",
      "I can now reveal to you that the car was behind the blue door.\n",
      "You have won.\n",
      "\n"
     ]
    }
   ],
   "source": [
    "print()\n",
    "print(\"Host:\")\n",
    "print(f\"\"\"\n",
    "You originally picked the {pick} door and I showed you there was a goat behind the {show} door.\n",
    "I asked you if you wanted to stay with the {pick} door or change to the {notopen} door.\n",
    "You decided to {'stay' if stay else 'change'}.\n",
    "I can now reveal to you that the car was behind the {car} door.\n",
    "You have {'won' if car==[pick,notopen][not stay] else 'not won'}.\n",
    "\"\"\")"
   ]
  },
  {
   "cell_type": "code",
   "execution_count": 21,
   "metadata": {},
   "outputs": [
    {
     "name": "stdout",
     "output_type": "stream",
     "text": [
      "SUMMARY: True,False,False,blue,green,False\n"
     ]
    }
   ],
   "source": [
    "print(f\"SUMMARY: {einstein},{monty},{savant},{car},{pick},{stay}\")"
   ]
  },
  {
   "cell_type": "markdown",
   "metadata": {},
   "source": [
    "***\n",
    "## END"
   ]
  },
  {
   "cell_type": "markdown",
   "metadata": {},
   "source": [
    "< [Table of Contents](#top) | [Abstract](#abstract) | [Introduction](#introduction) | [Conclusion](#conclusion) | [References](#references) >\n",
    "<a id=\"solution\"></a>\n",
    "***\n",
    "## Solution\n",
    "***"
   ]
  },
  {
   "cell_type": "markdown",
   "metadata": {},
   "source": [
    "&#x1F6A7;"
   ]
  },
  {
   "cell_type": "markdown",
   "metadata": {},
   "source": [
    "***\n",
    "## END"
   ]
  },
  {
   "cell_type": "markdown",
   "metadata": {},
   "source": [
    "< [Table of Contents](#top) | [Abstract](#abstract) | [Introduction](#introduction) | [Solution](#solution) | [References](#references) >\n",
    "<a id=\"conclusion\"></a>\n",
    "***\n",
    "## Conclusion\n",
    "***"
   ]
  },
  {
   "cell_type": "markdown",
   "metadata": {},
   "source": [
    "&#x1F6A7;"
   ]
  },
  {
   "cell_type": "markdown",
   "metadata": {},
   "source": [
    "***\n",
    "## END"
   ]
  },
  {
   "cell_type": "markdown",
   "metadata": {},
   "source": [
    "< [Table of Contents](#top) | [Abstract](#abstract) | [Introduction](#introduction) | [Solution](#solution) | [Conclusion](#conclusion) | [References](#references) >\n",
    "<a id=\"references\"></a>\n",
    "***\n",
    "## References\n",
    "***\n",
    "&nbsp;&nbsp;&nbsp;&nbsp;&nbsp;&nbsp;&nbsp;&nbsp;&nbsp;[1] I. McLoughlin, \"Win a car,\" GMIT, October 2020.\n",
    "\n",
    "&nbsp;&nbsp;&nbsp;&nbsp;&nbsp;&nbsp;&nbsp;&nbsp;&nbsp;[2] I. McLoughlin, \"Monty Hall Problem,\" GMIT, October 2020."
   ]
  },
  {
   "cell_type": "markdown",
   "metadata": {},
   "source": [
    "***\n",
    "## END"
   ]
  },
  {
   "cell_type": "markdown",
   "metadata": {},
   "source": [
    "< [Table of Contents](#top) | [Abstract](#abstract) | [Introduction](#introduction) | [Solution](#solution) | [Conclusion](#conclusion) | [References](#references) >\n",
    "<a id=\"appendix\"></a>\n",
    "***\n",
    "## Appendix\n",
    "***"
   ]
  },
  {
   "cell_type": "markdown",
   "metadata": {},
   "source": [
    "&#x1F6A7;"
   ]
  },
  {
   "cell_type": "markdown",
   "metadata": {},
   "source": [
    "***\n",
    "## END"
   ]
  },
  {
   "cell_type": "markdown",
   "metadata": {},
   "source": [
    "# END JUPYTER NOTEBOOK"
   ]
  }
 ],
 "metadata": {
  "kernelspec": {
   "display_name": "Python 3",
   "language": "python",
   "name": "python3"
  },
  "language_info": {
   "codemirror_mode": {
    "name": "ipython",
    "version": 3
   },
   "file_extension": ".py",
   "mimetype": "text/x-python",
   "name": "python",
   "nbconvert_exporter": "python",
   "pygments_lexer": "ipython3",
   "version": "3.8.8"
  }
 },
 "nbformat": 4,
 "nbformat_minor": 2
}
